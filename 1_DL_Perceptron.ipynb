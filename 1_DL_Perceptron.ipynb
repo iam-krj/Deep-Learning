{
  "nbformat": 4,
  "nbformat_minor": 0,
  "metadata": {
    "colab": {
      "name": "1_DL_Perceptron.ipynb",
      "provenance": [],
      "authorship_tag": "ABX9TyNScWjBMFFTPGNj6H6IHqms",
      "include_colab_link": true
    },
    "kernelspec": {
      "name": "python3",
      "display_name": "Python 3"
    },
    "language_info": {
      "name": "python"
    }
  },
  "cells": [
    {
      "cell_type": "markdown",
      "metadata": {
        "id": "view-in-github",
        "colab_type": "text"
      },
      "source": [
        "<a href=\"https://colab.research.google.com/github/iam-krj/Deep-Learning/blob/main/1_DL_Perceptron.ipynb\" target=\"_parent\"><img src=\"https://colab.research.google.com/assets/colab-badge.svg\" alt=\"Open In Colab\"/></a>"
      ]
    },
    {
      "cell_type": "markdown",
      "source": [
        "#PERCEPTRON"
      ],
      "metadata": {
        "id": "LLkCHFRjvz1I"
      }
    },
    {
      "cell_type": "markdown",
      "source": [
        "#Importing Libraries"
      ],
      "metadata": {
        "id": "JqWeXLjzrm0D"
      }
    },
    {
      "cell_type": "code",
      "execution_count": null,
      "metadata": {
        "id": "vdmUZSgyrgll"
      },
      "outputs": [],
      "source": [
        "from numpy import array\n",
        "from numpy import random\n",
        "from numpy import dot\n",
        "from random import choice"
      ]
    },
    {
      "cell_type": "markdown",
      "source": [
        "#Activation Function"
      ],
      "metadata": {
        "id": "xyn3UqXVr5iq"
      }
    },
    {
      "cell_type": "code",
      "source": [
        "activationFn = lambda x: 0 if x<0 else 1"
      ],
      "metadata": {
        "id": "I46ak5Lur82U"
      },
      "execution_count": null,
      "outputs": []
    },
    {
      "cell_type": "markdown",
      "source": [
        "#Initialise Dataset"
      ],
      "metadata": {
        "id": "U1Ahn5KzsRXi"
      }
    },
    {
      "cell_type": "code",
      "source": [
        "dataset = [\n",
        "           (array([0,0,1]), 0), #array ([x,y,b],e) x,y = input, b= bias, e = expected output to validate\n",
        "           (array([0,1,1]), 1),\n",
        "           (array([1,0,1]), 1),\n",
        "           (array([1,1,1]), 1),\n",
        "]\n",
        "print(dataset)\n",
        "print(array([0,0,1]), 0)"
      ],
      "metadata": {
        "colab": {
          "base_uri": "https://localhost:8080/"
        },
        "id": "G3p7tHE6sUF8",
        "outputId": "49da99d7-d4c3-441e-aa6d-af1ea88e6069"
      },
      "execution_count": null,
      "outputs": [
        {
          "output_type": "stream",
          "name": "stdout",
          "text": [
            "[(array([0, 0, 1]), 0), (array([0, 1, 1]), 1), (array([1, 0, 1]), 1), (array([1, 1, 1]), 1)]\n",
            "[0 0 1] 0\n"
          ]
        }
      ]
    },
    {
      "cell_type": "markdown",
      "source": [
        "#Initializing Random numbers for Weights"
      ],
      "metadata": {
        "id": "qUqhQE7Itha7"
      }
    },
    {
      "cell_type": "code",
      "source": [
        "weights = random.rand(3)\n",
        "weights"
      ],
      "metadata": {
        "colab": {
          "base_uri": "https://localhost:8080/"
        },
        "id": "ng1CelvOtqTS",
        "outputId": "8f9c4b7f-923d-4935-a6e7-05c15ef6ee89"
      },
      "execution_count": null,
      "outputs": [
        {
          "output_type": "execute_result",
          "data": {
            "text/plain": [
              "array([0.92936036, 0.48250855, 0.08808527])"
            ]
          },
          "metadata": {},
          "execution_count": 30
        }
      ]
    },
    {
      "cell_type": "markdown",
      "source": [
        "Initializing additional values"
      ],
      "metadata": {
        "id": "LSEK_utHt1k9"
      }
    },
    {
      "cell_type": "code",
      "source": [
        "r = 0.2 #learning rate\n",
        "n = 100 #Number of Iteration"
      ],
      "metadata": {
        "id": "NzJgGE7Zt1GP"
      },
      "execution_count": null,
      "outputs": []
    },
    {
      "cell_type": "markdown",
      "source": [
        "#Training our Model"
      ],
      "metadata": {
        "id": "KboKVx-euUeq"
      }
    },
    {
      "cell_type": "code",
      "source": [
        "for j in range (n):\n",
        "    x, expected = choice(dataset)\n",
        "    result = dot(weights, x)\n",
        "    err = expected-activationFn(result)\n",
        "    weights +=r*err *x\n",
        "    "
      ],
      "metadata": {
        "id": "VKPV66wxuXGK"
      },
      "execution_count": null,
      "outputs": []
    },
    {
      "cell_type": "markdown",
      "source": [
        "##Evaluating Model"
      ],
      "metadata": {
        "id": "nbkugdRjsthC"
      }
    },
    {
      "cell_type": "code",
      "source": [
        "for x, _ in dataset:\n",
        "    result = dot(x, weights)\n",
        "    print(\"Input: {} ResultBAFn: {} ResultAFn: {}\".format(x[:2],round(result,3),activationFn(result)))"
      ],
      "metadata": {
        "colab": {
          "base_uri": "https://localhost:8080/"
        },
        "id": "ib8Qo3Vau3Ng",
        "outputId": "bda13f6b-2ba6-4dd5-871c-afef57b07bda"
      },
      "execution_count": null,
      "outputs": [
        {
          "output_type": "stream",
          "name": "stdout",
          "text": [
            "Input: [0 0] ResultBAFn: -0.112 ResultAFn: 0\n",
            "Input: [0 1] ResultBAFn: 0.371 ResultAFn: 1\n",
            "Input: [1 0] ResultBAFn: 0.817 ResultAFn: 1\n",
            "Input: [1 1] ResultBAFn: 1.3 ResultAFn: 1\n"
          ]
        }
      ]
    },
    {
      "cell_type": "markdown",
      "source": [
        "#Deep Learning Terminology Day1\n",
        "\n"
      ],
      "metadata": {
        "id": "1mZ_WgoFxZqW"
      }
    }
  ]
}