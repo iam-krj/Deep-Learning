{
  "nbformat": 4,
  "nbformat_minor": 0,
  "metadata": {
    "colab": {
      "name": "2_DL_ActivationFunction.ipynb",
      "provenance": [],
      "authorship_tag": "ABX9TyPgc9utoXH2stMtA5gXmMAq",
      "include_colab_link": true
    },
    "kernelspec": {
      "name": "python3",
      "display_name": "Python 3"
    },
    "language_info": {
      "name": "python"
    }
  },
  "cells": [
    {
      "cell_type": "markdown",
      "metadata": {
        "id": "view-in-github",
        "colab_type": "text"
      },
      "source": [
        "<a href=\"https://colab.research.google.com/github/iam-krj/Deep-Learning/blob/main/2_DL_ActivationFunction.ipynb\" target=\"_parent\"><img src=\"https://colab.research.google.com/assets/colab-badge.svg\" alt=\"Open In Colab\"/></a>"
      ]
    },
    {
      "cell_type": "markdown",
      "source": [
        "#Importing Libraries"
      ],
      "metadata": {
        "id": "1BprUf_EGleb"
      }
    },
    {
      "cell_type": "code",
      "source": [
        "from numpy import array\n",
        "from numpy import random\n",
        "from numpy import dot\n",
        "from random import choice"
      ],
      "metadata": {
        "id": "EYp4uY1SGQE7"
      },
      "execution_count": 4,
      "outputs": []
    },
    {
      "cell_type": "markdown",
      "source": [
        "#Activation Function"
      ],
      "metadata": {
        "id": "K0twyDeGGpnd"
      }
    },
    {
      "cell_type": "code",
      "source": [
        "activationFn = lambda x: 0 if x<0 else 1"
      ],
      "metadata": {
        "id": "QNJw-ljrGjOl"
      },
      "execution_count": 5,
      "outputs": []
    },
    {
      "cell_type": "markdown",
      "source": [
        "#Initialise dataset"
      ],
      "metadata": {
        "id": "4luPT6JAGxoN"
      }
    },
    {
      "cell_type": "code",
      "source": [
        "dataset = [\n",
        "           (array([0,0,1]), 0), #array ([x,y,b],e) x,y = input, b= bias, e = expected output to validate\n",
        "           (array([0,1,1]), 1),\n",
        "           (array([1,0,1]), 1),\n",
        "           (array([1,1,1]), 1),\n",
        "]\n",
        "print(dataset)\n",
        "weights = random.rand(3)"
      ],
      "metadata": {
        "colab": {
          "base_uri": "https://localhost:8080/"
        },
        "id": "Y8sm5EWVG4vU",
        "outputId": "72e99b53-052a-4fcd-f71f-abb078f59a31"
      },
      "execution_count": 9,
      "outputs": [
        {
          "output_type": "stream",
          "name": "stdout",
          "text": [
            "[(array([0, 0, 1]), 0), (array([0, 1, 1]), 1), (array([1, 0, 1]), 1), (array([1, 1, 1]), 1)]\n"
          ]
        }
      ]
    },
    {
      "cell_type": "markdown",
      "source": [
        "##Initializing additional variables"
      ],
      "metadata": {
        "id": "fBYkrUHWyoT5"
      }
    },
    {
      "cell_type": "code",
      "execution_count": 7,
      "metadata": {
        "id": "YBAAte8FowSA"
      },
      "outputs": [],
      "source": [
        "r = 0.2#learning rate\n",
        "n= 100 #number of iterations"
      ]
    },
    {
      "cell_type": "markdown",
      "source": [
        "#Activation Function"
      ],
      "metadata": {
        "id": "1vlWS5l94493"
      }
    },
    {
      "cell_type": "markdown",
      "source": [
        "##Training and Evaluating using STEP Activation Function"
      ],
      "metadata": {
        "id": "seYy3leK497D"
      }
    },
    {
      "cell_type": "code",
      "source": [
        "activationFn = lambda x :0 if x< 0 else 1 #step activation function(if i/p is negative o/p is 0)\n",
        "for j in range(n):\n",
        "    x, expected = choice(dataset)\n",
        "    result = dot(weights, x)\n",
        "    err= expected - activationFn(result)\n",
        "    weights += r * err * x\n",
        "\n",
        "for x, _ in dataset:\n",
        "    result = dot(x, weights)\n",
        "    print(\"ResultBAFn: {} ResultAFn : {}\".format(round(result,3), activationFn(result)))"
      ],
      "metadata": {
        "colab": {
          "base_uri": "https://localhost:8080/"
        },
        "id": "m5FmdU7L4830",
        "outputId": "c1e8f8c5-f173-4ed8-b415-24f7895bb300"
      },
      "execution_count": 10,
      "outputs": [
        {
          "output_type": "stream",
          "name": "stdout",
          "text": [
            "ResultBAFn: -0.067 ResultAFn : 0\n",
            "ResultBAFn: 0.866 ResultAFn : 1\n",
            "ResultBAFn: 0.141 ResultAFn : 1\n",
            "ResultBAFn: 1.074 ResultAFn : 1\n"
          ]
        }
      ]
    },
    {
      "cell_type": "markdown",
      "source": [
        ""
      ],
      "metadata": {
        "id": "JfdgYrhkGPI_"
      }
    },
    {
      "cell_type": "code",
      "source": [
        ""
      ],
      "metadata": {
        "id": "sJI9FIXpGPbQ"
      },
      "execution_count": null,
      "outputs": []
    },
    {
      "cell_type": "markdown",
      "source": [
        ""
      ],
      "metadata": {
        "id": "bT3gu787GP04"
      }
    },
    {
      "cell_type": "markdown",
      "source": [
        "##Training and Evaluating using LINEAR Activation Function"
      ],
      "metadata": {
        "id": "xAqFXHef6eN5"
      }
    },
    {
      "cell_type": "code",
      "source": [
        "activationFn = lambda x : x\n",
        "\n",
        "for j in range(n):\n",
        "    x, expected = choice(dataset)\n",
        "    result = dot(weights, x)\n",
        "    err= expected - activationFn(result)\n",
        "    weights += r * err * x\n",
        "\n",
        "for x, _ in dataset:\n",
        "    result = dot(x, weights)\n",
        "    print(\"ResultBAFn: {} ResultAFn : {}\".format(round(result,3), activationFn(result)))"
      ],
      "metadata": {
        "colab": {
          "base_uri": "https://localhost:8080/"
        },
        "id": "l-zrLHc46hqF",
        "outputId": "a6cc4586-a028-4e35-91c2-683f8466260e"
      },
      "execution_count": 11,
      "outputs": [
        {
          "output_type": "stream",
          "name": "stdout",
          "text": [
            "ResultBAFn: 0.394 ResultAFn : 0.39371142835334055\n",
            "ResultBAFn: 0.997 ResultAFn : 0.9971844343677139\n",
            "ResultBAFn: 0.885 ResultAFn : 0.885119320590573\n",
            "ResultBAFn: 1.489 ResultAFn : 1.4885923266049461\n"
          ]
        }
      ]
    },
    {
      "cell_type": "markdown",
      "source": [
        "##Training and Evaluating using SIGMOID Activation Function"
      ],
      "metadata": {
        "id": "t_jM2Uu-7jZt"
      }
    },
    {
      "cell_type": "code",
      "source": [
        "import numpy as np\n",
        "activationFn = lambda x: 1/(1+np.exp(-x))\n",
        "err =[]\n",
        "for j in range(n):\n",
        "    x, expected = choice(dataset)\n",
        "    result = dot(weights, x)\n",
        "    err= expected - activationFn(result)\n",
        "    weights += r * err * x\n",
        "\n",
        "for x, _ in dataset:\n",
        "    result = dot(x, weights)\n",
        "    print(\"ResultBAFn: {} ResultAFn : {}\".format(round(result,3), activationFn(result)))"
      ],
      "metadata": {
        "colab": {
          "base_uri": "https://localhost:8080/"
        },
        "id": "SoDuj62779_R",
        "outputId": "d53361f8-f1a8-4e0a-d1ed-a9c182057f09"
      },
      "execution_count": 12,
      "outputs": [
        {
          "output_type": "stream",
          "name": "stdout",
          "text": [
            "ResultBAFn: -0.601 ResultAFn : 0.3540204627592593\n",
            "ResultBAFn: 1.0 ResultAFn : 0.7309644301840597\n",
            "ResultBAFn: 1.412 ResultAFn : 0.8041142291773022\n",
            "ResultBAFn: 3.013 ResultAFn : 0.953164407086267\n"
          ]
        }
      ]
    },
    {
      "cell_type": "markdown",
      "source": [
        "##Training And Evaluating using RELU Activation Function"
      ],
      "metadata": {
        "id": "W9KqYL0KHnVq"
      }
    },
    {
      "cell_type": "code",
      "source": [
        "activationFn = lambda x: 0 if x<0 else x\n",
        "err =[]\n",
        "for j in range(n):\n",
        "    x, expected = choice(dataset)\n",
        "    result = dot(weights, x)\n",
        "    err= expected - activationFn(result)\n",
        "    weights += r * err * x\n",
        "\n",
        "for x, _ in dataset:\n",
        "    result = dot(x, weights)\n",
        "    print(\"ResultBAFn: {} ResultAFn : {}\".format(round(result,3), activationFn(result)))"
      ],
      "metadata": {
        "colab": {
          "base_uri": "https://localhost:8080/"
        },
        "id": "LQwuDMHsHgZY",
        "outputId": "f8fe7d8c-51b2-4f61-b0f2-4c17c8ed50a6"
      },
      "execution_count": 13,
      "outputs": [
        {
          "output_type": "stream",
          "name": "stdout",
          "text": [
            "ResultBAFn: 0.017 ResultAFn : 0.01749560798033406\n",
            "ResultBAFn: 0.607 ResultAFn : 0.606796597974284\n",
            "ResultBAFn: 0.83 ResultAFn : 0.8296529547564369\n",
            "ResultBAFn: 1.419 ResultAFn : 1.4189539447503867\n"
          ]
        }
      ]
    },
    {
      "cell_type": "markdown",
      "source": [
        "#Training And Evaluating using SOFTMAX Activation Function"
      ],
      "metadata": {
        "id": "AAEEkkiwIkCy"
      }
    },
    {
      "cell_type": "code",
      "source": [
        "activationFn = lambda x: np.exp(x) / np.sum(np.exp(x), axis = 0)\n",
        "err =[]\n",
        "for j in range(n):\n",
        "    x, expected = choice(dataset)\n",
        "    result = dot(weights, x)\n",
        "    err= expected - activationFn(result)\n",
        "    weights += r * err * x\n",
        "\n",
        "for x, _ in dataset:\n",
        "    result = dot(x, weights)\n",
        "    print(\"ResultBAFn: {} ResultAFn : {}\".format(round(result,3), activationFn(result)))"
      ],
      "metadata": {
        "colab": {
          "base_uri": "https://localhost:8080/"
        },
        "id": "veSsHtTtIqG1",
        "outputId": "b3872b69-a746-4f65-c12a-b598a0647c73"
      },
      "execution_count": 14,
      "outputs": [
        {
          "output_type": "stream",
          "name": "stdout",
          "text": [
            "ResultBAFn: -4.383 ResultAFn : 1.0\n",
            "ResultBAFn: -3.793 ResultAFn : 1.0\n",
            "ResultBAFn: -3.57 ResultAFn : 1.0\n",
            "ResultBAFn: -2.981 ResultAFn : 1.0\n"
          ]
        }
      ]
    }
  ]
}